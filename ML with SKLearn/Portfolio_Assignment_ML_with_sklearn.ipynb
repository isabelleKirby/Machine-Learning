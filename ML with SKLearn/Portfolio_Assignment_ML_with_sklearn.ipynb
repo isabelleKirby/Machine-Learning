{
  "nbformat": 4,
  "nbformat_minor": 0,
  "metadata": {
    "colab": {
      "provenance": [],
      "collapsed_sections": []
    },
    "kernelspec": {
      "name": "python3",
      "display_name": "Python 3"
    },
    "language_info": {
      "name": "python"
    }
  },
  "cells": [
    {
      "cell_type": "markdown",
      "source": [
        "Isabelle Kirby\n",
        "\n",
        "IRK180000\n",
        "\n",
        "CS 4375.003\n",
        "\n",
        "Here I start by importing everything I need for this project. I know you can just have it when its needed, but I prefer throwing them all in the same area.\n",
        "Then I read in the data from Auto.csv to the dataframe."
      ],
      "metadata": {
        "id": "Ci3gLc4T-6_P"
      }
    },
    {
      "cell_type": "code",
      "execution_count": 102,
      "metadata": {
        "id": "BKjCLPnIV13L",
        "colab": {
          "base_uri": "https://localhost:8080/",
          "height": 206
        },
        "outputId": "7fde290f-9f8d-41ec-8e5a-8724f09637d0"
      },
      "outputs": [
        {
          "output_type": "execute_result",
          "data": {
            "text/plain": [
              "    mpg  cylinders  displacement  horsepower  weight  acceleration  year  \\\n",
              "0  18.0          8         307.0         130    3504          12.0  70.0   \n",
              "1  15.0          8         350.0         165    3693          11.5  70.0   \n",
              "2  18.0          8         318.0         150    3436          11.0  70.0   \n",
              "3  16.0          8         304.0         150    3433          12.0  70.0   \n",
              "4  17.0          8         302.0         140    3449           NaN  70.0   \n",
              "\n",
              "   origin                       name  \n",
              "0       1  chevrolet chevelle malibu  \n",
              "1       1          buick skylark 320  \n",
              "2       1         plymouth satellite  \n",
              "3       1              amc rebel sst  \n",
              "4       1                ford torino  "
            ],
            "text/html": [
              "\n",
              "  <div id=\"df-617edffb-2eae-47dc-b15b-831eb95971b8\">\n",
              "    <div class=\"colab-df-container\">\n",
              "      <div>\n",
              "<style scoped>\n",
              "    .dataframe tbody tr th:only-of-type {\n",
              "        vertical-align: middle;\n",
              "    }\n",
              "\n",
              "    .dataframe tbody tr th {\n",
              "        vertical-align: top;\n",
              "    }\n",
              "\n",
              "    .dataframe thead th {\n",
              "        text-align: right;\n",
              "    }\n",
              "</style>\n",
              "<table border=\"1\" class=\"dataframe\">\n",
              "  <thead>\n",
              "    <tr style=\"text-align: right;\">\n",
              "      <th></th>\n",
              "      <th>mpg</th>\n",
              "      <th>cylinders</th>\n",
              "      <th>displacement</th>\n",
              "      <th>horsepower</th>\n",
              "      <th>weight</th>\n",
              "      <th>acceleration</th>\n",
              "      <th>year</th>\n",
              "      <th>origin</th>\n",
              "      <th>name</th>\n",
              "    </tr>\n",
              "  </thead>\n",
              "  <tbody>\n",
              "    <tr>\n",
              "      <th>0</th>\n",
              "      <td>18.0</td>\n",
              "      <td>8</td>\n",
              "      <td>307.0</td>\n",
              "      <td>130</td>\n",
              "      <td>3504</td>\n",
              "      <td>12.0</td>\n",
              "      <td>70.0</td>\n",
              "      <td>1</td>\n",
              "      <td>chevrolet chevelle malibu</td>\n",
              "    </tr>\n",
              "    <tr>\n",
              "      <th>1</th>\n",
              "      <td>15.0</td>\n",
              "      <td>8</td>\n",
              "      <td>350.0</td>\n",
              "      <td>165</td>\n",
              "      <td>3693</td>\n",
              "      <td>11.5</td>\n",
              "      <td>70.0</td>\n",
              "      <td>1</td>\n",
              "      <td>buick skylark 320</td>\n",
              "    </tr>\n",
              "    <tr>\n",
              "      <th>2</th>\n",
              "      <td>18.0</td>\n",
              "      <td>8</td>\n",
              "      <td>318.0</td>\n",
              "      <td>150</td>\n",
              "      <td>3436</td>\n",
              "      <td>11.0</td>\n",
              "      <td>70.0</td>\n",
              "      <td>1</td>\n",
              "      <td>plymouth satellite</td>\n",
              "    </tr>\n",
              "    <tr>\n",
              "      <th>3</th>\n",
              "      <td>16.0</td>\n",
              "      <td>8</td>\n",
              "      <td>304.0</td>\n",
              "      <td>150</td>\n",
              "      <td>3433</td>\n",
              "      <td>12.0</td>\n",
              "      <td>70.0</td>\n",
              "      <td>1</td>\n",
              "      <td>amc rebel sst</td>\n",
              "    </tr>\n",
              "    <tr>\n",
              "      <th>4</th>\n",
              "      <td>17.0</td>\n",
              "      <td>8</td>\n",
              "      <td>302.0</td>\n",
              "      <td>140</td>\n",
              "      <td>3449</td>\n",
              "      <td>NaN</td>\n",
              "      <td>70.0</td>\n",
              "      <td>1</td>\n",
              "      <td>ford torino</td>\n",
              "    </tr>\n",
              "  </tbody>\n",
              "</table>\n",
              "</div>\n",
              "      <button class=\"colab-df-convert\" onclick=\"convertToInteractive('df-617edffb-2eae-47dc-b15b-831eb95971b8')\"\n",
              "              title=\"Convert this dataframe to an interactive table.\"\n",
              "              style=\"display:none;\">\n",
              "        \n",
              "  <svg xmlns=\"http://www.w3.org/2000/svg\" height=\"24px\"viewBox=\"0 0 24 24\"\n",
              "       width=\"24px\">\n",
              "    <path d=\"M0 0h24v24H0V0z\" fill=\"none\"/>\n",
              "    <path d=\"M18.56 5.44l.94 2.06.94-2.06 2.06-.94-2.06-.94-.94-2.06-.94 2.06-2.06.94zm-11 1L8.5 8.5l.94-2.06 2.06-.94-2.06-.94L8.5 2.5l-.94 2.06-2.06.94zm10 10l.94 2.06.94-2.06 2.06-.94-2.06-.94-.94-2.06-.94 2.06-2.06.94z\"/><path d=\"M17.41 7.96l-1.37-1.37c-.4-.4-.92-.59-1.43-.59-.52 0-1.04.2-1.43.59L10.3 9.45l-7.72 7.72c-.78.78-.78 2.05 0 2.83L4 21.41c.39.39.9.59 1.41.59.51 0 1.02-.2 1.41-.59l7.78-7.78 2.81-2.81c.8-.78.8-2.07 0-2.86zM5.41 20L4 18.59l7.72-7.72 1.47 1.35L5.41 20z\"/>\n",
              "  </svg>\n",
              "      </button>\n",
              "      \n",
              "  <style>\n",
              "    .colab-df-container {\n",
              "      display:flex;\n",
              "      flex-wrap:wrap;\n",
              "      gap: 12px;\n",
              "    }\n",
              "\n",
              "    .colab-df-convert {\n",
              "      background-color: #E8F0FE;\n",
              "      border: none;\n",
              "      border-radius: 50%;\n",
              "      cursor: pointer;\n",
              "      display: none;\n",
              "      fill: #1967D2;\n",
              "      height: 32px;\n",
              "      padding: 0 0 0 0;\n",
              "      width: 32px;\n",
              "    }\n",
              "\n",
              "    .colab-df-convert:hover {\n",
              "      background-color: #E2EBFA;\n",
              "      box-shadow: 0px 1px 2px rgba(60, 64, 67, 0.3), 0px 1px 3px 1px rgba(60, 64, 67, 0.15);\n",
              "      fill: #174EA6;\n",
              "    }\n",
              "\n",
              "    [theme=dark] .colab-df-convert {\n",
              "      background-color: #3B4455;\n",
              "      fill: #D2E3FC;\n",
              "    }\n",
              "\n",
              "    [theme=dark] .colab-df-convert:hover {\n",
              "      background-color: #434B5C;\n",
              "      box-shadow: 0px 1px 3px 1px rgba(0, 0, 0, 0.15);\n",
              "      filter: drop-shadow(0px 1px 2px rgba(0, 0, 0, 0.3));\n",
              "      fill: #FFFFFF;\n",
              "    }\n",
              "  </style>\n",
              "\n",
              "      <script>\n",
              "        const buttonEl =\n",
              "          document.querySelector('#df-617edffb-2eae-47dc-b15b-831eb95971b8 button.colab-df-convert');\n",
              "        buttonEl.style.display =\n",
              "          google.colab.kernel.accessAllowed ? 'block' : 'none';\n",
              "\n",
              "        async function convertToInteractive(key) {\n",
              "          const element = document.querySelector('#df-617edffb-2eae-47dc-b15b-831eb95971b8');\n",
              "          const dataTable =\n",
              "            await google.colab.kernel.invokeFunction('convertToInteractive',\n",
              "                                                     [key], {});\n",
              "          if (!dataTable) return;\n",
              "\n",
              "          const docLinkHtml = 'Like what you see? Visit the ' +\n",
              "            '<a target=\"_blank\" href=https://colab.research.google.com/notebooks/data_table.ipynb>data table notebook</a>'\n",
              "            + ' to learn more about interactive tables.';\n",
              "          element.innerHTML = '';\n",
              "          dataTable['output_type'] = 'display_data';\n",
              "          await google.colab.output.renderOutput(dataTable, element);\n",
              "          const docLink = document.createElement('div');\n",
              "          docLink.innerHTML = docLinkHtml;\n",
              "          element.appendChild(docLink);\n",
              "        }\n",
              "      </script>\n",
              "    </div>\n",
              "  </div>\n",
              "  "
            ]
          },
          "metadata": {},
          "execution_count": 102
        }
      ],
      "source": [
        "\n",
        "import pandas as pd\n",
        "import seaborn as sb\n",
        "from sklearn.model_selection import train_test_split\n",
        "from sklearn.linear_model import LogisticRegression\n",
        "from sklearn.metrics import classification_report\n",
        "from sklearn.tree import DecisionTreeClassifier\n",
        "from sklearn import preprocessing\n",
        "from sklearn.neural_network import MLPClassifier\n",
        "\n",
        "df = pd.read_csv('Auto.csv')\n",
        "df.head()"
      ]
    },
    {
      "cell_type": "code",
      "source": [
        "#row = len(df.axes[0])\n",
        "#col = len(df.axes[1])\n",
        "#s = 'Dimensions (rox X column): ' + repr(row) + ' X ' + repr(col)\n",
        "#print(s)\n",
        "\n",
        "print('Dimensions of Data Frame (rox X column): ', df.shape)"
      ],
      "metadata": {
        "colab": {
          "base_uri": "https://localhost:8080/"
        },
        "id": "3bj-S4RmYzfi",
        "outputId": "2159f898-69ad-46c7-b6f9-37992804fd82"
      },
      "execution_count": 103,
      "outputs": [
        {
          "output_type": "stream",
          "name": "stdout",
          "text": [
            "Dimensions of Data Frame (rox X column):  (392, 9)\n"
          ]
        }
      ]
    },
    {
      "cell_type": "markdown",
      "source": [
        "For mpg, the average (given in by mean) is 23.44 mpg with a range (given by max - min) of 37 mpg."
      ],
      "metadata": {
        "id": "nPc9osdt6Poz"
      }
    },
    {
      "cell_type": "code",
      "source": [
        "df['mpg'].describe()\n"
      ],
      "metadata": {
        "colab": {
          "base_uri": "https://localhost:8080/"
        },
        "id": "ZnmWrgvH3s8d",
        "outputId": "3ca553b7-abf0-48ff-b0c1-0b934223c97f"
      },
      "execution_count": 104,
      "outputs": [
        {
          "output_type": "execute_result",
          "data": {
            "text/plain": [
              "count    392.000000\n",
              "mean      23.445918\n",
              "std        7.805007\n",
              "min        9.000000\n",
              "25%       17.000000\n",
              "50%       22.750000\n",
              "75%       29.000000\n",
              "max       46.600000\n",
              "Name: mpg, dtype: float64"
            ]
          },
          "metadata": {},
          "execution_count": 104
        }
      ]
    },
    {
      "cell_type": "markdown",
      "source": [
        "For weight, the average (given in by mean) is 2977.584 lbs with a range (given by max - min) of 3527 lbs."
      ],
      "metadata": {
        "id": "tGvq1EHg69qA"
      }
    },
    {
      "cell_type": "code",
      "source": [
        "df['weight'].describe()"
      ],
      "metadata": {
        "id": "k4VQ0otaZA5I",
        "colab": {
          "base_uri": "https://localhost:8080/"
        },
        "outputId": "0f8de247-0cd3-4422-cad2-ee74e92bdbb1"
      },
      "execution_count": 105,
      "outputs": [
        {
          "output_type": "execute_result",
          "data": {
            "text/plain": [
              "count     392.000000\n",
              "mean     2977.584184\n",
              "std       849.402560\n",
              "min      1613.000000\n",
              "25%      2225.250000\n",
              "50%      2803.500000\n",
              "75%      3614.750000\n",
              "max      5140.000000\n",
              "Name: weight, dtype: float64"
            ]
          },
          "metadata": {},
          "execution_count": 105
        }
      ]
    },
    {
      "cell_type": "markdown",
      "source": [
        "For year, the average year (given in by mean) was '76.01 with a range (given by max - min) of 12 years."
      ],
      "metadata": {
        "id": "VpvnKyNc7aRf"
      }
    },
    {
      "cell_type": "code",
      "source": [
        "df['year'].describe()"
      ],
      "metadata": {
        "colab": {
          "base_uri": "https://localhost:8080/"
        },
        "id": "xe9IkMh36Ekr",
        "outputId": "e0217826-3053-407a-eca5-37c54df78b2e"
      },
      "execution_count": 106,
      "outputs": [
        {
          "output_type": "execute_result",
          "data": {
            "text/plain": [
              "count    390.000000\n",
              "mean      76.010256\n",
              "std        3.668093\n",
              "min       70.000000\n",
              "25%       73.000000\n",
              "50%       76.000000\n",
              "75%       79.000000\n",
              "max       82.000000\n",
              "Name: year, dtype: float64"
            ]
          },
          "metadata": {},
          "execution_count": 106
        }
      ]
    },
    {
      "cell_type": "code",
      "source": [
        "df.dtypes"
      ],
      "metadata": {
        "colab": {
          "base_uri": "https://localhost:8080/"
        },
        "id": "9YziSOkk7xwt",
        "outputId": "201cacf1-4f5c-463b-ab11-f30822c56b91"
      },
      "execution_count": 107,
      "outputs": [
        {
          "output_type": "execute_result",
          "data": {
            "text/plain": [
              "mpg             float64\n",
              "cylinders         int64\n",
              "displacement    float64\n",
              "horsepower        int64\n",
              "weight            int64\n",
              "acceleration    float64\n",
              "year            float64\n",
              "origin            int64\n",
              "name             object\n",
              "dtype: object"
            ]
          },
          "metadata": {},
          "execution_count": 107
        }
      ]
    },
    {
      "cell_type": "code",
      "source": [
        "df['cylinders'] = df['cylinders'].astype('category').cat.codes"
      ],
      "metadata": {
        "id": "eo-23ZcwCg6G"
      },
      "execution_count": 108,
      "outputs": []
    },
    {
      "cell_type": "code",
      "source": [
        "df['origin'] = df['origin'].astype('category')"
      ],
      "metadata": {
        "id": "zAI5vcSZ9dFf"
      },
      "execution_count": 109,
      "outputs": []
    },
    {
      "cell_type": "code",
      "source": [
        "df.dtypes"
      ],
      "metadata": {
        "colab": {
          "base_uri": "https://localhost:8080/"
        },
        "id": "xc6uVU5eCAEa",
        "outputId": "c4b37821-0314-4cd2-df20-116b63b4b017"
      },
      "execution_count": 110,
      "outputs": [
        {
          "output_type": "execute_result",
          "data": {
            "text/plain": [
              "mpg              float64\n",
              "cylinders           int8\n",
              "displacement     float64\n",
              "horsepower         int64\n",
              "weight             int64\n",
              "acceleration     float64\n",
              "year             float64\n",
              "origin          category\n",
              "name              object\n",
              "dtype: object"
            ]
          },
          "metadata": {},
          "execution_count": 110
        }
      ]
    },
    {
      "cell_type": "code",
      "source": [
        "df.isnull().sum()"
      ],
      "metadata": {
        "colab": {
          "base_uri": "https://localhost:8080/"
        },
        "id": "q5oDIs_NEALZ",
        "outputId": "e4c6f17d-056b-4bfe-8729-644f75319ad8"
      },
      "execution_count": 111,
      "outputs": [
        {
          "output_type": "execute_result",
          "data": {
            "text/plain": [
              "mpg             0\n",
              "cylinders       0\n",
              "displacement    0\n",
              "horsepower      0\n",
              "weight          0\n",
              "acceleration    1\n",
              "year            2\n",
              "origin          0\n",
              "name            0\n",
              "dtype: int64"
            ]
          },
          "metadata": {},
          "execution_count": 111
        }
      ]
    },
    {
      "cell_type": "code",
      "source": [
        "df = df.dropna()\n",
        "#row = len(df.axes[0])\n",
        "#col = len(df.axes[1])\n",
        "#s = 'Dimensions (rox X column): ' + repr(row) + ' X ' + repr(col)\n",
        "#print(s)\n",
        "print('Dimensions of Data Frame (rox X column): ', df.shape)"
      ],
      "metadata": {
        "colab": {
          "base_uri": "https://localhost:8080/"
        },
        "id": "6pNHVYsLDKji",
        "outputId": "434bd50b-525a-4d66-8ccc-3293a78470f6"
      },
      "execution_count": 112,
      "outputs": [
        {
          "output_type": "stream",
          "name": "stdout",
          "text": [
            "Dimensions of Data Frame (rox X column):  (389, 9)\n"
          ]
        }
      ]
    },
    {
      "cell_type": "code",
      "source": [
        "def mpg_high(x):\n",
        "    if x > df['mpg'].mean():\n",
        "      return 1\n",
        "    else:\n",
        "      return 0\n",
        "\n",
        "df['mpg_high'] = df['mpg'].map(mpg_high)\n",
        "df = df.drop(columns=['mpg', 'name'])\n",
        "df['mpg_high'] = df['mpg_high'].astype('category')\n",
        "df.head"
      ],
      "metadata": {
        "colab": {
          "base_uri": "https://localhost:8080/"
        },
        "id": "VKn6qxaaEeQY",
        "outputId": "638d0edb-82eb-4d67-d3f3-f6bc5f2ca290"
      },
      "execution_count": 113,
      "outputs": [
        {
          "output_type": "stream",
          "name": "stderr",
          "text": [
            "/usr/local/lib/python3.7/dist-packages/ipykernel_launcher.py:7: SettingWithCopyWarning: \n",
            "A value is trying to be set on a copy of a slice from a DataFrame.\n",
            "Try using .loc[row_indexer,col_indexer] = value instead\n",
            "\n",
            "See the caveats in the documentation: https://pandas.pydata.org/pandas-docs/stable/user_guide/indexing.html#returning-a-view-versus-a-copy\n",
            "  import sys\n"
          ]
        },
        {
          "output_type": "execute_result",
          "data": {
            "text/plain": [
              "<bound method NDFrame.head of      cylinders  displacement  horsepower  weight  acceleration  year origin  \\\n",
              "0            4         307.0         130    3504          12.0  70.0      1   \n",
              "1            4         350.0         165    3693          11.5  70.0      1   \n",
              "2            4         318.0         150    3436          11.0  70.0      1   \n",
              "3            4         304.0         150    3433          12.0  70.0      1   \n",
              "6            4         454.0         220    4354           9.0  70.0      1   \n",
              "..         ...           ...         ...     ...           ...   ...    ...   \n",
              "387          1         140.0          86    2790          15.6  82.0      1   \n",
              "388          1          97.0          52    2130          24.6  82.0      2   \n",
              "389          1         135.0          84    2295          11.6  82.0      1   \n",
              "390          1         120.0          79    2625          18.6  82.0      1   \n",
              "391          1         119.0          82    2720          19.4  82.0      1   \n",
              "\n",
              "    mpg_high  \n",
              "0          0  \n",
              "1          0  \n",
              "2          0  \n",
              "3          0  \n",
              "6          0  \n",
              "..       ...  \n",
              "387        1  \n",
              "388        1  \n",
              "389        1  \n",
              "390        1  \n",
              "391        1  \n",
              "\n",
              "[389 rows x 8 columns]>"
            ]
          },
          "metadata": {},
          "execution_count": 113
        }
      ]
    },
    {
      "cell_type": "markdown",
      "source": [
        "This catplot is simple. I tells us the porportion of cars with a high fuel efficiency (mpg > average mpg) to those who have a lesser fuel efficiency. Most cars have a lower fuel efficiency."
      ],
      "metadata": {
        "id": "8LZn6PVHCGY5"
      }
    },
    {
      "cell_type": "code",
      "source": [
        "sb.catplot(x=\"mpg_high\", kind='count', data=df)"
      ],
      "metadata": {
        "colab": {
          "base_uri": "https://localhost:8080/",
          "height": 386
        },
        "id": "2ZG8x1SqMxwp",
        "outputId": "fcf703b1-c270-467e-babb-294d6375601b"
      },
      "execution_count": 114,
      "outputs": [
        {
          "output_type": "execute_result",
          "data": {
            "text/plain": [
              "<seaborn.axisgrid.FacetGrid at 0x7fe076152190>"
            ]
          },
          "metadata": {},
          "execution_count": 114
        },
        {
          "output_type": "display_data",
          "data": {
            "text/plain": [
              "<Figure size 360x360 with 1 Axes>"
            ],
            "image/png": "[encoded data removed]"
          },
          "metadata": {
            "needs_background": "light"
          }
        }
      ]
    },
    {
      "cell_type": "markdown",
      "source": [
        " This relplot shows us the correlation between the weight of a car, its horsepower, and its fuel efficiency. Generally as a car gets heavier and there is more horsepower, the fuel efficiency of the car decreases."
      ],
      "metadata": {
        "id": "AFEBIP2tDIm_"
      }
    },
    {
      "cell_type": "code",
      "source": [
        "sb.relplot(x='horsepower', y='weight', data=df, hue=df.mpg_high, style=df.mpg_high)"
      ],
      "metadata": {
        "colab": {
          "base_uri": "https://localhost:8080/",
          "height": 386
        },
        "id": "v5527EJOO7Fk",
        "outputId": "0b123a65-7606-4ce4-d562-d9eaa43e038b"
      },
      "execution_count": 115,
      "outputs": [
        {
          "output_type": "execute_result",
          "data": {
            "text/plain": [
              "<seaborn.axisgrid.FacetGrid at 0x7fe076145290>"
            ]
          },
          "metadata": {},
          "execution_count": 115
        },
        {
          "output_type": "display_data",
          "data": {
            "text/plain": [
              "<Figure size 417.25x360 with 1 Axes>"
            ],
            "image/png": "[encoded data removed]"
          },
          "metadata": {
            "needs_background": "light"
          }
        }
      ]
    },
    {
      "cell_type": "markdown",
      "source": [
        "This boxplot shows us that the majority of cars with a good fuel efficiency tended to be lighter than those with a lesser fuel efficiency."
      ],
      "metadata": {
        "id": "DmN6oTfSI_zH"
      }
    },
    {
      "cell_type": "code",
      "source": [
        "sb.boxplot(x='mpg_high', y='weight', data=df)"
      ],
      "metadata": {
        "colab": {
          "base_uri": "https://localhost:8080/",
          "height": 297
        },
        "id": "nrdVauZvPpCM",
        "outputId": "305d3251-229d-4bff-d00a-edfc83820f73"
      },
      "execution_count": 116,
      "outputs": [
        {
          "output_type": "execute_result",
          "data": {
            "text/plain": [
              "<matplotlib.axes._subplots.AxesSubplot at 0x7fe07632e190>"
            ]
          },
          "metadata": {},
          "execution_count": 116
        },
        {
          "output_type": "display_data",
          "data": {
            "text/plain": [
              "<Figure size 432x288 with 1 Axes>"
            ],
            "image/png": "[encoded data removed]"
          },
          "metadata": {
            "needs_background": "light"
          }
        }
      ]
    },
    {
      "cell_type": "markdown",
      "source": [
        "Splitting the training set:"
      ],
      "metadata": {
        "id": "y_yKTB5aJVv_"
      }
    },
    {
      "cell_type": "code",
      "source": [
        "x = df[['cylinders', 'displacement', 'horsepower', 'weight', 'acceleration', 'year', 'origin']]\n",
        "y = df[['mpg_high']]\n",
        "X_train, X_test, y_train, y_test = train_test_split(x, y, test_size=0.2, random_state=1234)\n",
        "print('train size:', X_train.shape)\n",
        "print('test size:', X_test.shape)"
      ],
      "metadata": {
        "colab": {
          "base_uri": "https://localhost:8080/"
        },
        "id": "Vc_equcoQa2-",
        "outputId": "7a52c075-b278-4dfa-b6eb-4dedb6284c4b"
      },
      "execution_count": 117,
      "outputs": [
        {
          "output_type": "stream",
          "name": "stdout",
          "text": [
            "train size: (311, 7)\n",
            "test size: (78, 7)\n"
          ]
        }
      ]
    },
    {
      "cell_type": "markdown",
      "source": [
        "Logistic Regression:"
      ],
      "metadata": {
        "id": "MHBxC6FHJTp9"
      }
    },
    {
      "cell_type": "code",
      "source": [
        "log = LogisticRegression(solver='lbfgs')\n",
        "log.fit(X_train, y_train.values.ravel())\n",
        "log.score(X_train, y_train)"
      ],
      "metadata": {
        "colab": {
          "base_uri": "https://localhost:8080/"
        },
        "id": "Q-kJ_qr1RYiK",
        "outputId": "8a440946-f302-4103-afc2-5f205d4ae07e"
      },
      "execution_count": 118,
      "outputs": [
        {
          "output_type": "stream",
          "name": "stderr",
          "text": [
            "/usr/local/lib/python3.7/dist-packages/sklearn/linear_model/_logistic.py:818: ConvergenceWarning: lbfgs failed to converge (status=1):\n",
            "STOP: TOTAL NO. of ITERATIONS REACHED LIMIT.\n",
            "\n",
            "Increase the number of iterations (max_iter) or scale the data as shown in:\n",
            "    https://scikit-learn.org/stable/modules/preprocessing.html\n",
            "Please also refer to the documentation for alternative solver options:\n",
            "    https://scikit-learn.org/stable/modules/linear_model.html#logistic-regression\n",
            "  extra_warning_msg=_LOGISTIC_SOLVER_CONVERGENCE_MSG,\n"
          ]
        },
        {
          "output_type": "execute_result",
          "data": {
            "text/plain": [
              "0.9067524115755627"
            ]
          },
          "metadata": {},
          "execution_count": 118
        }
      ]
    },
    {
      "cell_type": "code",
      "source": [
        " logpred = log.predict(X_test)\n",
        " print(\"Classification report for Logistic Regression: \\n\", classification_report(y_test, logpred))"
      ],
      "metadata": {
        "colab": {
          "base_uri": "https://localhost:8080/"
        },
        "id": "SjV_IQHKV1a5",
        "outputId": "f12f9c8b-5dd9-40db-9399-d72c88651e07"
      },
      "execution_count": 119,
      "outputs": [
        {
          "output_type": "stream",
          "name": "stdout",
          "text": [
            "Classification report for Logistic Regression: \n",
            "               precision    recall  f1-score   support\n",
            "\n",
            "           0       0.98      0.80      0.88        50\n",
            "           1       0.73      0.96      0.83        28\n",
            "\n",
            "    accuracy                           0.86        78\n",
            "   macro avg       0.85      0.88      0.85        78\n",
            "weighted avg       0.89      0.86      0.86        78\n",
            "\n"
          ]
        }
      ]
    },
    {
      "cell_type": "markdown",
      "source": [
        "Decision Tree:"
      ],
      "metadata": {
        "id": "s6_tk5CTJc3E"
      }
    },
    {
      "cell_type": "code",
      "source": [
        "trees = DecisionTreeClassifier()\n",
        "trees.fit(X_train, y_train)\n",
        "treepred = trees.predict(X_test)\n",
        "print(\"Classification report for Decision Trees: \\n\", classification_report(y_test, treepred))"
      ],
      "metadata": {
        "colab": {
          "base_uri": "https://localhost:8080/"
        },
        "id": "U4IRK-UAYvZ5",
        "outputId": "92245ffb-ee80-4e8e-e530-ba92e7e7e168"
      },
      "execution_count": 120,
      "outputs": [
        {
          "output_type": "stream",
          "name": "stdout",
          "text": [
            "Classification report for Decision Trees: \n",
            "               precision    recall  f1-score   support\n",
            "\n",
            "           0       0.98      0.92      0.95        50\n",
            "           1       0.87      0.96      0.92        28\n",
            "\n",
            "    accuracy                           0.94        78\n",
            "   macro avg       0.92      0.94      0.93        78\n",
            "weighted avg       0.94      0.94      0.94        78\n",
            "\n"
          ]
        }
      ]
    },
    {
      "cell_type": "markdown",
      "source": [
        "Neural Network #1:"
      ],
      "metadata": {
        "id": "8LIbsonRJo0o"
      }
    },
    {
      "cell_type": "code",
      "source": [
        "neuralscalar = preprocessing.StandardScaler().fit(X_train)\n",
        "train_scale = neuralscalar.transform(X_train)\n",
        "test_scale = neuralscalar.transform(X_test)\n",
        "\n",
        "neuralLog = MLPClassifier(solver='lbfgs', hidden_layer_sizes=(5,2), max_iter=500, random_state=1234)\n",
        "neuralLog.fit(train_scale, y_train.values.ravel())\n",
        "npred1 = neuralLog.predict(test_scale)\n",
        "print(\"Classification report for Neural Network 1 (Logistic Regression): \\n\", classification_report(y_test, npred1))"
      ],
      "metadata": {
        "colab": {
          "base_uri": "https://localhost:8080/"
        },
        "id": "jhRsvMCNcS6U",
        "outputId": "4adb5953-7931-4770-b037-f69bab04c4be"
      },
      "execution_count": 121,
      "outputs": [
        {
          "output_type": "stream",
          "name": "stdout",
          "text": [
            "Classification report for Neural Network 1 (Logistic Regression): \n",
            "               precision    recall  f1-score   support\n",
            "\n",
            "           0       0.93      0.86      0.90        50\n",
            "           1       0.78      0.89      0.83        28\n",
            "\n",
            "    accuracy                           0.87        78\n",
            "   macro avg       0.86      0.88      0.86        78\n",
            "weighted avg       0.88      0.87      0.87        78\n",
            "\n"
          ]
        }
      ]
    },
    {
      "cell_type": "markdown",
      "source": [
        "Neural Network #2:"
      ],
      "metadata": {
        "id": "qk1SbfPWJw3C"
      }
    },
    {
      "cell_type": "code",
      "source": [
        "neuralscalar = preprocessing.StandardScaler().fit(X_train)\n",
        "train_scale = neuralscalar.transform(X_train)\n",
        "test_scale = neuralscalar.transform(X_test)\n",
        "\n",
        "neuralLog = MLPClassifier(solver='lbfgs', hidden_layer_sizes=(10,6), max_iter=500, random_state=1234)\n",
        "neuralLog.fit(train_scale, y_train.values.ravel())\n",
        "npred2 = neuralLog.predict(test_scale)\n",
        "print(\"Classification report for Neural Network 2 (Logistic Regression): \\n\", classification_report(y_test, npred2))"
      ],
      "metadata": {
        "colab": {
          "base_uri": "https://localhost:8080/"
        },
        "id": "1wSNe-HHjKeD",
        "outputId": "d1eb31a3-2bcc-463c-85bd-57a0823b37cb"
      },
      "execution_count": 122,
      "outputs": [
        {
          "output_type": "stream",
          "name": "stdout",
          "text": [
            "Classification report for Neural Network 2 (Logistic Regression): \n",
            "               precision    recall  f1-score   support\n",
            "\n",
            "           0       0.96      0.88      0.92        50\n",
            "           1       0.81      0.93      0.87        28\n",
            "\n",
            "    accuracy                           0.90        78\n",
            "   macro avg       0.88      0.90      0.89        78\n",
            "weighted avg       0.90      0.90      0.90        78\n",
            "\n"
          ]
        }
      ]
    },
    {
      "cell_type": "markdown",
      "source": [
        "Analysis: \n",
        "\n",
        "Between all of the algorithms, my second Neural Network Logical Regression (NNL) out performed all of the other algorithms. \n",
        "\n",
        "In my current run the second Neural Network had a 90% accross the board for accuracy, recall, and precision. The Decision Tree was the runner up with an accuracy and recall of 88% and a precision of 89%. This was followed by the first Neural Network with an accuracy and recall of 87% and a precision of 88%. Finally the classic Logistic Regression performed the worst with a accuracy and recall of 86% and a precision of 89%. \n",
        "\n",
        "I think the Neural Network Logistic Regression was able to outperform the other algorithms because Neural Networks are so much more complex than traditional machine learning practices. Because the algorithm itself is so much more complex, it is able to learn more from a small dataset (like Auto.csv). In the second iteration I think the topology of the algorithm was better suited for the dataset, resulting in better performance. Because the dataset was so small but had so much varience (shown by the large ranges and outliers in the boxplot) it was difficult for the traditional Logistic Regression and Decision Tree algorithms to perform well. \n",
        "\n",
        "I really preferred working with sklearn as opposed to R. R is a confusing language to use and is a little unintuative to me (which makes sense considering it initially created for statistics people). Sklearn was simple and sleek. R uses a lot more code to do the same thing sklearn accomplishes, making it a little harder to understand what is happening and how a program works. \n",
        "\n",
        "\n",
        "\n"
      ],
      "metadata": {
        "id": "tjzburuMKj8_"
      }
    }
  ]
}